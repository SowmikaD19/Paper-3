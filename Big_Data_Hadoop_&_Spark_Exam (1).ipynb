{
  "nbformat": 4,
  "nbformat_minor": 0,
  "metadata": {
    "colab": {
      "name": "Big Data Hadoop & Spark Exam.ipynb",
      "provenance": []
    },
    "kernelspec": {
      "name": "python3",
      "display_name": "Python 3"
    },
    "language_info": {
      "name": "python"
    }
  },
  "cells": [
    {
      "cell_type": "code",
      "source": [
        "pip install pyspark"
      ],
      "metadata": {
        "colab": {
          "base_uri": "https://localhost:8080/"
        },
        "id": "7IBHHLYbyuFl",
        "outputId": "13a7518d-67e0-4fa3-f85f-50b66545ec71"
      },
      "execution_count": 1,
      "outputs": [
        {
          "output_type": "stream",
          "name": "stdout",
          "text": [
            "Looking in indexes: https://pypi.org/simple, https://us-python.pkg.dev/colab-wheels/public/simple/\n",
            "Requirement already satisfied: pyspark in /usr/local/lib/python3.7/dist-packages (3.2.1)\n",
            "Requirement already satisfied: py4j==0.10.9.3 in /usr/local/lib/python3.7/dist-packages (from pyspark) (0.10.9.3)\n"
          ]
        }
      ]
    },
    {
      "cell_type": "code",
      "execution_count": 16,
      "metadata": {
        "id": "neY_oTZRyQxR"
      },
      "outputs": [],
      "source": [
        "import numpy as np\n",
        "import pandas as pd\n",
        "import pyspark"
      ]
    },
    {
      "cell_type": "code",
      "source": [
        "from pyspark import SparkConf, SparkContext, SQLContext\n",
        "from pyspark.sql import SparkSession\n",
        "from pyspark.sql.functions import udf # @udf(\"integer\") def myfunc(x,y): return x - y\n",
        "from pyspark.sql import functions as F # stddev format_number date_format, dayofyear, when\n",
        "from pyspark.sql.types import StructField, StringType, IntegerType, StructType"
      ],
      "metadata": {
        "id": "MsTFrmGqyS4O"
      },
      "execution_count": 17,
      "outputs": []
    },
    {
      "cell_type": "code",
      "source": [
        "print([(x.__name__,x.__version__) for x in [np, pd, pyspark]])\n",
        "\n",
        "spark = pyspark.sql.SparkSession.builder.appName('BOSTON').getOrCreate()\n",
        "sc = spark.sparkContext\n",
        "sqlContext = SQLContext(sc)\n",
        "sc.setLogLevel(\"INFO\")"
      ],
      "metadata": {
        "colab": {
          "base_uri": "https://localhost:8080/"
        },
        "id": "cWfhOyODzHN4",
        "outputId": "c79ede97-2339-48d8-8ca7-f76bc4c6b608"
      },
      "execution_count": 18,
      "outputs": [
        {
          "output_type": "stream",
          "name": "stdout",
          "text": [
            "[('numpy', '1.21.6'), ('pandas', '1.3.5'), ('pyspark', '3.2.1')]\n"
          ]
        },
        {
          "output_type": "stream",
          "name": "stderr",
          "text": [
            "/usr/local/lib/python3.7/dist-packages/pyspark/sql/context.py:79: FutureWarning: Deprecated in 3.0.0. Use SparkSession.builder.getOrCreate() instead.\n",
            "  FutureWarning\n"
          ]
        }
      ]
    },
    {
      "cell_type": "code",
      "source": [
        "from pyspark.ml.feature import (VectorAssembler, VectorIndexer,\n",
        "                               OneHotEncoder, StringIndexer)\n"
      ],
      "metadata": {
        "id": "xhnaZWVazfGT"
      },
      "execution_count": 19,
      "outputs": []
    },
    {
      "cell_type": "markdown",
      "source": [
        "Q.1 Read the given CSV file in a Hive table"
      ],
      "metadata": {
        "id": "jwFXrfPL9GKS"
      }
    },
    {
      "cell_type": "markdown",
      "source": [
        "Q2. Read the data from Hive table as spark dataframe"
      ],
      "metadata": {
        "id": "JPLVXHcU9ITf"
      }
    },
    {
      "cell_type": "code",
      "source": [
        "df = spark.read.csv('boston.csv',header=True,inferSchema=True)\n",
        "print(df.count())\n",
        "df.show()"
      ],
      "metadata": {
        "colab": {
          "base_uri": "https://localhost:8080/"
        },
        "id": "Z07lFz5PzVYT",
        "outputId": "6b43a026-8cd8-4754-f6ea-e7893e80ab37"
      },
      "execution_count": 20,
      "outputs": [
        {
          "output_type": "stream",
          "name": "stdout",
          "text": [
            "506\n",
            "+-----------+----+-----------+----+-----------+-----------+-----------+-----------+---+---+-----------+-----------+-----------+-----------+\n",
            "|       CRIM|  ZN|      INDUS|CHAS|        NOX|         RM|        AGE|        DIS|RAD|TAX|         PT|          B|      LSTAT|         MV|\n",
            "+-----------+----+-----------+----+-----------+-----------+-----------+-----------+---+---+-----------+-----------+-----------+-----------+\n",
            "|    0.00632|18.0|2.309999943|   0|0.537999988|6.574999809|65.19999695|4.090000153|  1|296|15.30000019|396.8999939|4.980000019|       24.0|\n",
            "|0.027310001| 0.0|7.070000172|   0|0.469000012|6.421000004|78.90000153|4.967100143|  2|242|17.79999924|396.8999939|9.140000343|21.60000038|\n",
            "|    0.02729| 0.0|7.070000172|   0|0.469000012|7.184999943|61.09999847|4.967100143|  2|242|17.79999924|392.8299866| 4.03000021|34.70000076|\n",
            "|0.032370001| 0.0|2.180000067|   0|0.458000004|6.998000145|45.79999924|6.062200069|  3|222|18.70000076|394.6300049|2.940000057|33.40000153|\n",
            "|0.069049999| 0.0|2.180000067|   0|0.458000004|7.146999836|54.20000076|6.062200069|  3|222|18.70000076|396.8999939|5.329999924|36.20000076|\n",
            "|0.029850001| 0.0|2.180000067|   0|0.458000004|6.429999828|58.70000076|6.062200069|  3|222|18.70000076|394.1199951|5.210000038|28.70000076|\n",
            "|0.088289998|12.5|7.869999886|   0|0.523999989|6.012000084|66.59999847|5.560500145|  5|311|15.19999981|395.6000061|12.43000031|22.89999962|\n",
            "|0.144549996|12.5|7.869999886|   0|0.523999989|6.171999931|96.09999847|5.950500011|  5|311|15.19999981|396.8999939|19.14999962|27.10000038|\n",
            "|0.211239994|12.5|7.869999886|   0|0.523999989|5.631000042|      100.0|6.082099915|  5|311|15.19999981|386.6300049|29.93000031|       16.5|\n",
            "|0.170039997|12.5|7.869999886|   0|0.523999989|6.004000187|85.90000153|6.592100143|  5|311|15.19999981|386.7099915|17.10000038|18.89999962|\n",
            "|0.224889994|12.5|7.869999886|   0|0.523999989|6.376999855|94.30000305|6.346700191|  5|311|15.19999981| 392.519989|20.45000076|       15.0|\n",
            "|0.117470004|12.5|7.869999886|   0|0.523999989|6.008999825|82.90000153|6.226699829|  5|311|15.19999981|396.8999939|13.27000046|18.89999962|\n",
            "|0.093780003|12.5|7.869999886|   0|0.523999989|5.888999939|       39.0|5.450900078|  5|311|15.19999981|      390.5|15.71000004|21.70000076|\n",
            "|0.629760027| 0.0|8.140000343|   0|0.537999988|5.948999882|61.79999924|4.707499981|  4|307|       21.0|396.8999939|8.260000229|20.39999962|\n",
            "|0.637960017| 0.0|8.140000343|   0|0.537999988|6.096000195|       84.5|4.461900234|  4|307|       21.0| 380.019989|10.26000023|18.20000076|\n",
            "|0.627390027| 0.0|8.140000343|   0|0.537999988|5.834000111|       56.5|4.498600006|  4|307|       21.0|395.6199951|8.470000267|19.89999962|\n",
            "|1.053930044| 0.0|8.140000343|   0|0.537999988|5.934999943|29.29999924|4.498600006|  4|307|       21.0|386.8500061|6.579999924|23.10000038|\n",
            "|0.784200013| 0.0|8.140000343|   0|0.537999988|5.989999771|81.69999695|4.257900238|  4|307|       21.0|     386.75|14.67000008|       17.5|\n",
            "|0.802709997| 0.0|8.140000343|   0|0.537999988|5.455999851|36.59999847|3.796499968|  4|307|       21.0|288.9899902|11.68999958|20.20000076|\n",
            "|0.725799978| 0.0|8.140000343|   0|0.537999988|5.727000237|       69.5|3.796499968|  4|307|       21.0|390.9500122|11.27999973|18.20000076|\n",
            "+-----------+----+-----------+----+-----------+-----------+-----------+-----------+---+---+-----------+-----------+-----------+-----------+\n",
            "only showing top 20 rows\n",
            "\n"
          ]
        }
      ]
    },
    {
      "cell_type": "code",
      "source": [
        "df.show(5)\n",
        "df.write.saveAsTable(\"hive_table\")"
      ],
      "metadata": {
        "colab": {
          "base_uri": "https://localhost:8080/"
        },
        "id": "nmc8oKjqzcPV",
        "outputId": "303c1c41-d80b-4b60-9837-78a1af45b7e9"
      },
      "execution_count": 21,
      "outputs": [
        {
          "output_type": "stream",
          "name": "stdout",
          "text": [
            "+-----------+----+-----------+----+-----------+-----------+-----------+-----------+---+---+-----------+-----------+-----------+-----------+\n",
            "|       CRIM|  ZN|      INDUS|CHAS|        NOX|         RM|        AGE|        DIS|RAD|TAX|         PT|          B|      LSTAT|         MV|\n",
            "+-----------+----+-----------+----+-----------+-----------+-----------+-----------+---+---+-----------+-----------+-----------+-----------+\n",
            "|    0.00632|18.0|2.309999943|   0|0.537999988|6.574999809|65.19999695|4.090000153|  1|296|15.30000019|396.8999939|4.980000019|       24.0|\n",
            "|0.027310001| 0.0|7.070000172|   0|0.469000012|6.421000004|78.90000153|4.967100143|  2|242|17.79999924|396.8999939|9.140000343|21.60000038|\n",
            "|    0.02729| 0.0|7.070000172|   0|0.469000012|7.184999943|61.09999847|4.967100143|  2|242|17.79999924|392.8299866| 4.03000021|34.70000076|\n",
            "|0.032370001| 0.0|2.180000067|   0|0.458000004|6.998000145|45.79999924|6.062200069|  3|222|18.70000076|394.6300049|2.940000057|33.40000153|\n",
            "|0.069049999| 0.0|2.180000067|   0|0.458000004|7.146999836|54.20000076|6.062200069|  3|222|18.70000076|396.8999939|5.329999924|36.20000076|\n",
            "+-----------+----+-----------+----+-----------+-----------+-----------+-----------+---+---+-----------+-----------+-----------+-----------+\n",
            "only showing top 5 rows\n",
            "\n"
          ]
        }
      ]
    },
    {
      "cell_type": "code",
      "source": [
        "df1=spark.sql(\"select * from hive_table limit 5\")\n",
        "df1.show()"
      ],
      "metadata": {
        "colab": {
          "base_uri": "https://localhost:8080/"
        },
        "id": "FdA5d9de2BVi",
        "outputId": "15654eb1-42aa-4a83-ad14-0e327eef12d6"
      },
      "execution_count": 22,
      "outputs": [
        {
          "output_type": "stream",
          "name": "stdout",
          "text": [
            "+-----------+----+-----------+----+-----------+-----------+-----------+-----------+---+---+-----------+-----------+-----------+-----------+\n",
            "|       CRIM|  ZN|      INDUS|CHAS|        NOX|         RM|        AGE|        DIS|RAD|TAX|         PT|          B|      LSTAT|         MV|\n",
            "+-----------+----+-----------+----+-----------+-----------+-----------+-----------+---+---+-----------+-----------+-----------+-----------+\n",
            "|    0.00632|18.0|2.309999943|   0|0.537999988|6.574999809|65.19999695|4.090000153|  1|296|15.30000019|396.8999939|4.980000019|       24.0|\n",
            "|0.027310001| 0.0|7.070000172|   0|0.469000012|6.421000004|78.90000153|4.967100143|  2|242|17.79999924|396.8999939|9.140000343|21.60000038|\n",
            "|    0.02729| 0.0|7.070000172|   0|0.469000012|7.184999943|61.09999847|4.967100143|  2|242|17.79999924|392.8299866| 4.03000021|34.70000076|\n",
            "|0.032370001| 0.0|2.180000067|   0|0.458000004|6.998000145|45.79999924|6.062200069|  3|222|18.70000076|394.6300049|2.940000057|33.40000153|\n",
            "|0.069049999| 0.0|2.180000067|   0|0.458000004|7.146999836|54.20000076|6.062200069|  3|222|18.70000076|396.8999939|5.329999924|36.20000076|\n",
            "+-----------+----+-----------+----+-----------+-----------+-----------+-----------+---+---+-----------+-----------+-----------+-----------+\n",
            "\n"
          ]
        }
      ]
    },
    {
      "cell_type": "code",
      "source": [
        "df.printSchema()"
      ],
      "metadata": {
        "colab": {
          "base_uri": "https://localhost:8080/"
        },
        "id": "F4hRcPan1jcY",
        "outputId": "1a593e92-e7bf-4e6a-bc71-5621db6e663c"
      },
      "execution_count": 23,
      "outputs": [
        {
          "output_type": "stream",
          "name": "stdout",
          "text": [
            "root\n",
            " |-- CRIM: double (nullable = true)\n",
            " |-- ZN: double (nullable = true)\n",
            " |-- INDUS: double (nullable = true)\n",
            " |-- CHAS: integer (nullable = true)\n",
            " |-- NOX: double (nullable = true)\n",
            " |-- RM: double (nullable = true)\n",
            " |-- AGE: double (nullable = true)\n",
            " |-- DIS: double (nullable = true)\n",
            " |-- RAD: integer (nullable = true)\n",
            " |-- TAX: integer (nullable = true)\n",
            " |-- PT: double (nullable = true)\n",
            " |-- B: double (nullable = true)\n",
            " |-- LSTAT: double (nullable = true)\n",
            " |-- MV: double (nullable = true)\n",
            "\n"
          ]
        }
      ]
    },
    {
      "cell_type": "code",
      "source": [
        "from pyspark.sql.functions import col,sum\n",
        "df.select(*(sum(col(c).isNull().cast(\"int\")).alias(c) for c in df.columns)).show()"
      ],
      "metadata": {
        "colab": {
          "base_uri": "https://localhost:8080/"
        },
        "id": "xxQLo5Vn1lma",
        "outputId": "5f94c5a3-2278-45b2-a76c-d1c25647e175"
      },
      "execution_count": 24,
      "outputs": [
        {
          "output_type": "stream",
          "name": "stdout",
          "text": [
            "+----+---+-----+----+---+---+---+---+---+---+---+---+-----+---+\n",
            "|CRIM| ZN|INDUS|CHAS|NOX| RM|AGE|DIS|RAD|TAX| PT|  B|LSTAT| MV|\n",
            "+----+---+-----+----+---+---+---+---+---+---+---+---+-----+---+\n",
            "|   0|  0|    0|   0|  0|  0|  0|  0|  0|  0|  0|  0|    0|  0|\n",
            "+----+---+-----+----+---+---+---+---+---+---+---+---+-----+---+\n",
            "\n"
          ]
        }
      ]
    },
    {
      "cell_type": "code",
      "source": [
        "print(df.columns)"
      ],
      "metadata": {
        "colab": {
          "base_uri": "https://localhost:8080/"
        },
        "id": "zgCjqXRI2DmQ",
        "outputId": "71dd8827-a648-4ef5-d125-4d4f25abfa54"
      },
      "execution_count": 25,
      "outputs": [
        {
          "output_type": "stream",
          "name": "stdout",
          "text": [
            "['CRIM', 'ZN', 'INDUS', 'CHAS', 'NOX', 'RM', 'AGE', 'DIS', 'RAD', 'TAX', 'PT', 'B', 'LSTAT', 'MV']\n"
          ]
        }
      ]
    },
    {
      "cell_type": "markdown",
      "source": [
        "Q3. Get the correlation between dependent and independent variables"
      ],
      "metadata": {
        "id": "0LxMaBxd8uYE"
      }
    },
    {
      "cell_type": "code",
      "source": [
        "import six\n",
        "for i in df.columns:\n",
        "    if not( isinstance(df1.select(i).take(1)[0][0], six.string_types)):\n",
        "        print( \"Correlation to MV for \", i, df1.stat.corr('MV',i))"
      ],
      "metadata": {
        "colab": {
          "base_uri": "https://localhost:8080/"
        },
        "id": "hNZGexld5Jrw",
        "outputId": "881f7b04-2847-4677-b713-9c2b2c370556"
      },
      "execution_count": 27,
      "outputs": [
        {
          "output_type": "stream",
          "name": "stdout",
          "text": [
            "Correlation to MV for  CRIM 0.6607839558864418\n",
            "Correlation to MV for  ZN -0.500215489534063\n",
            "Correlation to MV for  INDUS -0.2631093684444436\n",
            "Correlation to MV for  CHAS nan\n",
            "Correlation to MV for  NOX -0.5745716465692196\n",
            "Correlation to MV for  RM 0.989841842270372\n",
            "Correlation to MV for  AGE -0.8111085082331926\n",
            "Correlation to MV for  DIS 0.7036501926440693\n",
            "Correlation to MV for  RAD 0.6983979469127524\n",
            "Correlation to MV for  TAX -0.6363263575027012\n",
            "Correlation to MV for  PT 0.6340519746742553\n",
            "Correlation to MV for  B -0.54565811574164\n",
            "Correlation to MV for  LSTAT -0.7036716987510019\n",
            "Correlation to MV for  MV 1.0\n"
          ]
        }
      ]
    },
    {
      "cell_type": "code",
      "source": [
        "from pyspark.ml.feature import VectorAssembler\n",
        "vectorAssembler = VectorAssembler(inputCols = ['CRIM', 'ZN', 'INDUS', 'CHAS', 'NOX', 'RM', 'AGE', 'DIS', 'RAD', 'TAX', 'PT', 'B', 'LSTAT'], outputCol = 'features')\n",
        "df2 = vectorAssembler.transform(df)\n",
        "df2 = df2.select(['features', 'MV'])\n",
        "df2.show(5)"
      ],
      "metadata": {
        "colab": {
          "base_uri": "https://localhost:8080/"
        },
        "id": "7paWW5Vi5LxV",
        "outputId": "88b1bbb3-e148-4eb3-9de4-1b784d269e5f"
      },
      "execution_count": 28,
      "outputs": [
        {
          "output_type": "stream",
          "name": "stdout",
          "text": [
            "+--------------------+-----------+\n",
            "|            features|         MV|\n",
            "+--------------------+-----------+\n",
            "|[0.00632,18.0,2.3...|       24.0|\n",
            "|[0.027310001,0.0,...|21.60000038|\n",
            "|[0.02729,0.0,7.07...|34.70000076|\n",
            "|[0.032370001,0.0,...|33.40000153|\n",
            "|[0.069049999,0.0,...|36.20000076|\n",
            "+--------------------+-----------+\n",
            "only showing top 5 rows\n",
            "\n"
          ]
        }
      ]
    },
    {
      "cell_type": "code",
      "source": [
        "splits = df2.randomSplit([0.7, 0.3])\n",
        "train_df = splits[0]\n",
        "test_df = splits[1]"
      ],
      "metadata": {
        "id": "Itws1BOi5fOk"
      },
      "execution_count": 29,
      "outputs": []
    },
    {
      "cell_type": "markdown",
      "source": [
        "Q4. Build a linear regression model to predict house price"
      ],
      "metadata": {
        "id": "FflLUyBX8qHu"
      }
    },
    {
      "cell_type": "code",
      "source": [
        "from pyspark.ml.regression import LinearRegression\n",
        "lr = LinearRegression(featuresCol = 'features', labelCol='MV', maxIter=10, regParam=0.3, elasticNetParam=0.8)\n",
        "lr_model = lr.fit(train_df)\n",
        "print(\"Coefficients: \" + str(lr_model.coefficients))\n",
        "print(\"Intercept: \" + str(lr_model.intercept))"
      ],
      "metadata": {
        "colab": {
          "base_uri": "https://localhost:8080/"
        },
        "id": "1J-kLrOt5h2R",
        "outputId": "ef29da40-7297-41c0-8aa8-4c3dcad8f567"
      },
      "execution_count": 30,
      "outputs": [
        {
          "output_type": "stream",
          "name": "stdout",
          "text": [
            "Coefficients: [0.0,0.006898326795659802,0.0,2.3411490679079034,-1.8639636388347023,4.304458301267106,-0.010639903717444986,-0.34789464147622573,0.0,-0.0034032562457330297,-0.7757488126451516,0.008827179139801052,-0.4011266800877066]\n",
            "Intercept: 15.770026100734286\n"
          ]
        }
      ]
    },
    {
      "cell_type": "markdown",
      "source": [
        "Q5. Evaluate the Linear Regression model by getting the RMSE and R-squared values"
      ],
      "metadata": {
        "id": "odsQw-x68cdX"
      }
    },
    {
      "cell_type": "code",
      "source": [
        "trainingSummary = lr_model.summary\n",
        "print(\"RMSE: %f\" % trainingSummary.rootMeanSquaredError)\n",
        "print(\"r2: %f\" % trainingSummary.r2)"
      ],
      "metadata": {
        "colab": {
          "base_uri": "https://localhost:8080/"
        },
        "id": "V2vIEBLL5vxT",
        "outputId": "3e8eb1f9-cb03-4a84-ef32-9549495b4561"
      },
      "execution_count": 41,
      "outputs": [
        {
          "output_type": "stream",
          "name": "stdout",
          "text": [
            "RMSE: 4.328328\n",
            "r2: 0.735025\n"
          ]
        }
      ]
    },
    {
      "cell_type": "code",
      "source": [
        "lr_predictions = lr_model.transform(test_df)\n",
        "lr_predictions.select(\"prediction\",\"MV\",\"features\").show(5)\n",
        "from pyspark.ml.evaluation import RegressionEvaluator\n",
        "lr_evaluator = RegressionEvaluator(predictionCol=\"prediction\", \\\n",
        "                 labelCol=\"MV\",metricName=\"r2\")\n",
        "print(\"R Squared (R2) on test data = %g\" % lr_evaluator.evaluate(lr_predictions))"
      ],
      "metadata": {
        "colab": {
          "base_uri": "https://localhost:8080/"
        },
        "id": "Yysxfgyd5ywo",
        "outputId": "e24b4c6f-c1a1-4973-d2ac-7d0aa4ad95f0"
      },
      "execution_count": 42,
      "outputs": [
        {
          "output_type": "stream",
          "name": "stdout",
          "text": [
            "+------------------+-----------+--------------------+\n",
            "|        prediction|         MV|            features|\n",
            "+------------------+-----------+--------------------+\n",
            "| 30.49468859570223|35.40000153|[0.01311,90.0,1.2...|\n",
            "|27.759819031542612|       24.5|[0.01501,80.0,2.0...|\n",
            "| 30.62746164371046|32.90000153|[0.01778,95.0,1.4...|\n",
            "|   21.813783226577|20.10000038|[0.019649999,80.0...|\n",
            "| 38.23822689981017|       50.0|[0.020090001,95.0...|\n",
            "+------------------+-----------+--------------------+\n",
            "only showing top 5 rows\n",
            "\n",
            "R Squared (R2) on test data = 0.644326\n"
          ]
        }
      ]
    },
    {
      "cell_type": "code",
      "source": [
        "test_result = lr_model.evaluate(test_df)\n",
        "print(\"RMSE on test data = %g\" % test_result.rootMeanSquaredError)"
      ],
      "metadata": {
        "colab": {
          "base_uri": "https://localhost:8080/"
        },
        "id": "KmIdpbbO531b",
        "outputId": "4b377c86-8303-4b5c-e9af-9bc3cadb30e3"
      },
      "execution_count": 43,
      "outputs": [
        {
          "output_type": "stream",
          "name": "stdout",
          "text": [
            "RMSE on test data = 6.33491\n"
          ]
        }
      ]
    },
    {
      "cell_type": "code",
      "source": [
        "predictions = lr_model.transform(test_df)\n",
        "predictions.select(\"prediction\",\"MV\",\"features\").show()"
      ],
      "metadata": {
        "colab": {
          "base_uri": "https://localhost:8080/"
        },
        "id": "wewH8kvO563V",
        "outputId": "5cbf6cb8-931d-495a-c2ac-20ba9698b876"
      },
      "execution_count": 44,
      "outputs": [
        {
          "output_type": "stream",
          "name": "stdout",
          "text": [
            "+------------------+-----------+--------------------+\n",
            "|        prediction|         MV|            features|\n",
            "+------------------+-----------+--------------------+\n",
            "| 30.49468859570223|35.40000153|[0.01311,90.0,1.2...|\n",
            "|27.759819031542612|       24.5|[0.01501,80.0,2.0...|\n",
            "| 30.62746164371046|32.90000153|[0.01778,95.0,1.4...|\n",
            "|   21.813783226577|20.10000038|[0.019649999,80.0...|\n",
            "| 38.23822689981017|       50.0|[0.020090001,95.0...|\n",
            "| 35.62892116041008|42.29999924|[0.02177,82.5,2.0...|\n",
            "|27.186705070934472|23.89999962|[0.025429999,55.0...|\n",
            "|30.664357927952743|34.70000076|[0.02729,0.0,7.07...|\n",
            "|20.414004540267857|       18.5|[0.030409999,0.0,...|\n",
            "|22.470545476351028|20.60000038|[0.033059999,0.0,...|\n",
            "|  37.0919240200717|       48.5|[0.035100002,95.0...|\n",
            "| 36.04063116817082|45.40000153|[0.035780001,20.0...|\n",
            "| 28.15937382511131|       23.5|[0.035840001,80.0...|\n",
            "|27.955352332262926|27.89999962|[0.036150001,80.0...|\n",
            "| 32.18285354927032|35.40000153|[0.037050001,20.0...|\n",
            "|25.989899579356734|23.20000076|[0.038710002,52.5...|\n",
            "| 35.00266056328922|33.29999924|[0.040109999,80.0...|\n",
            "| 23.61844601672614|19.39999962|[0.043790001,80.0...|\n",
            "|25.138643549630174|23.29999924|[0.045600001,0.0,...|\n",
            "| 21.49137484633748|17.10000038|[0.05023,35.0,6.0...|\n",
            "+------------------+-----------+--------------------+\n",
            "only showing top 20 rows\n",
            "\n"
          ]
        }
      ]
    },
    {
      "cell_type": "code",
      "source": [
        ""
      ],
      "metadata": {
        "id": "k46CbN6T6UV6"
      },
      "execution_count": null,
      "outputs": []
    }
  ]
}